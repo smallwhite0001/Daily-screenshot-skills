{
 "cells": [
  {
   "cell_type": "markdown",
   "metadata": {},
   "source": [
    "# Windows 日常截图、贴图技巧"
   ]
  },
  {
   "cell_type": "markdown",
   "metadata": {},
   "source": [
    "截图，贴图，图片简单处理，然后发送给他人，在我们日常办公以及日常生活中几乎每天都会遇到的事情。然而在截图，贴图，图片简单处理时，其中的种种细节和技巧，你都知道吗？"
   ]
  },
  {
   "cell_type": "markdown",
   "metadata": {},
   "source": [
    "有时需要截全屏；有时需要截取窗口；有时需要截个圆形；有时需要将截图添加马赛克、箭头或标注等；有时需要截长图；有时又需要将多张图片合到一起……"
   ]
  },
  {
   "cell_type": "markdown",
   "metadata": {},
   "source": [
    "下面我们来简单介绍一下 Windows（这里以 Win 10 为例）非常棒，又常用的截图工具以及截图技巧："
   ]
  },
  {
   "cell_type": "markdown",
   "metadata": {},
   "source": [
    "## 系统自带截图技巧"
   ]
  },
  {
   "cell_type": "markdown",
   "metadata": {},
   "source": [
    "有时我们需要快速的截图，又缺少第三方截图软件及插件等（例如在别人或公司的电脑上），那使用系统自带的截图技巧，就非常方便。"
   ]
  },
  {
   "cell_type": "markdown",
   "metadata": {},
   "source": [
    "### PrtScn 键截全屏"
   ]
  },
  {
   "cell_type": "markdown",
   "metadata": {},
   "source": [
    "第一种方法，就是直接按一下键盘上的 `PrtScn` 键，你可能看不到任何提示，全屏已经截好了，然后你就可以打开 word、ppt、excel、绘图工具或者聊天窗口等 `CTRL + V` 粘贴刚才截取的图片。"
   ]
  },
  {
   "cell_type": "markdown",
   "metadata": {},
   "source": [
    "这种方法只能截全屏。"
   ]
  },
  {
   "cell_type": "markdown",
   "metadata": {},
   "source": [
    "### Win + Shift + S 选取截图"
   ]
  },
  {
   "cell_type": "markdown",
   "metadata": {},
   "source": [
    "第二种方法（要 Win 10），就是按 `Win + Shift + S` 组合键，将出现如下提示："
   ]
  },
  {
   "cell_type": "markdown",
   "metadata": {},
   "source": [
    "![](imgs/2021-10-31_10-53-27.png)"
   ]
  },
  {
   "cell_type": "markdown",
   "metadata": {},
   "source": [
    "第一个矩形截图，第二个任意形状截图，选择这两个，只要按住鼠标左键选择区域即可完成截图，第三个窗口截图，选择它，鼠标停留在需要截图的窗口上点击一下即可完成截图，第四个全屏截图，与按 `PrtScn` 键一样。"
   ]
  },
  {
   "cell_type": "markdown",
   "metadata": {},
   "source": [
    "任意形状截图："
   ]
  },
  {
   "cell_type": "markdown",
   "metadata": {},
   "source": [
    "![](imgs/2021-10-31_11-02-09.png)"
   ]
  },
  {
   "cell_type": "markdown",
   "metadata": {},
   "source": [
    "这种方法虽然可以选择性截取图片，但对于图片需要打马赛克，添加箭头、文字、标注等无能为力，只有将图片保存再用图片处理软件处理。"
   ]
  },
  {
   "cell_type": "markdown",
   "metadata": {},
   "source": [
    "截图完了之后，同样可以打开 word、ppt、excel、绘图工具或者聊天窗口等 `CTRL + V` 粘贴刚才截取的图片。"
   ]
  },
  {
   "cell_type": "markdown",
   "metadata": {},
   "source": [
    "**注意**：上面的系统自带截图，图片是在剪切板中没有保存的，可以一次性截图很多张，再 `Win + V`，呼出剪切板，选择图片："
   ]
  },
  {
   "cell_type": "markdown",
   "metadata": {},
   "source": [
    "![](imgs/20211031112146.png)"
   ]
  },
  {
   "cell_type": "markdown",
   "metadata": {},
   "source": [
    "如果要保存图片，需要在粘贴之后，在图片上点击右键，将图片另存，选择存放的位置，保存即可。"
   ]
  },
  {
   "cell_type": "markdown",
   "metadata": {},
   "source": [
    "![](imgs/2021-10-31_10-41-57.png)"
   ]
  },
  {
   "cell_type": "markdown",
   "metadata": {},
   "source": [
    "## 第三方截图工具"
   ]
  },
  {
   "cell_type": "markdown",
   "metadata": {},
   "source": [
    "第三方截图工具非常多，软件，浏览器插件等不胜枚举。下面我们选取几个较常见又好用的介绍。"
   ]
  },
  {
   "cell_type": "markdown",
   "metadata": {},
   "source": [
    "### 微信截图"
   ]
  },
  {
   "cell_type": "markdown",
   "metadata": {},
   "source": [
    "如果 Windows 电脑安装了微信桌面版，登录微信后，`Alt + A` 可以直接呼出微信截图。"
   ]
  },
  {
   "cell_type": "markdown",
   "metadata": {},
   "source": [
    "默认是窗口截图，选择要截图的窗口，单击鼠标左键，即可开始截图处理（双击鼠标左键即可快速完成截图）。"
   ]
  },
  {
   "cell_type": "markdown",
   "metadata": {},
   "source": [
    "如果要选择截图区域，按住鼠标左键不松开，选择区域后，即可开始截图处理："
   ]
  },
  {
   "cell_type": "markdown",
   "metadata": {},
   "source": [
    "![](imgs/2021-10-31_11-39-52.png)"
   ]
  },
  {
   "cell_type": "markdown",
   "metadata": {},
   "source": [
    "如上图，微信截图可以添加标注、箭头、表情、文字，打马赛克等。然后最后面四个选择分别是转发（选择要发送的微信群或人），保存（选择要保存的文件夹），退出截图（也可以双击鼠标右键），完成截图（可以到其他地方 `CTRL + V` 粘贴）"
   ]
  },
  {
   "cell_type": "markdown",
   "metadata": {},
   "source": [
    "### QQ 截长图"
   ]
  },
  {
   "cell_type": "markdown",
   "metadata": {},
   "source": [
    "有时候我们需要截取的图片很长，桌面又无法完全显示出来，笨的做法是截取多张图片然后用软件合到一起。"
   ]
  },
  {
   "cell_type": "markdown",
   "metadata": {},
   "source": [
    "其实我们还可以直接截取长图。截长图的软件或浏览器插件很多，我们选择 QQ 来做介绍。"
   ]
  },
  {
   "cell_type": "markdown",
   "metadata": {},
   "source": [
    "登录 QQ，按 `CTRL + ALT + A` 呼出 QQ 截图，选中截图区域后，工具栏选择 “长截图”："
   ]
  },
  {
   "cell_type": "markdown",
   "metadata": {},
   "source": [
    "![](imgs/2021-10-31_12-11-19.png)"
   ]
  },
  {
   "cell_type": "markdown",
   "metadata": {},
   "source": [
    "然后上下滚动鼠标轴或点击鼠标左键开始长截图："
   ]
  },
  {
   "cell_type": "markdown",
   "metadata": {},
   "source": [
    "![](imgs/2021-10-31_12-14-37.png)"
   ]
  },
  {
   "cell_type": "markdown",
   "metadata": {},
   "source": [
    "长图截取完后，就可编辑处理，保存或发送啦。"
   ]
  },
  {
   "cell_type": "markdown",
   "metadata": {},
   "source": [
    "**提示**：微信或 QQ 截图都有一个不足之处，就是当你鼠标点击（例如单击鼠标右键）出来的菜单栏也需要截取的时候，就不能用了，因为只要一开始截图，菜单栏就消失了。这时候系统自带截图就可以："
   ]
  },
  {
   "cell_type": "markdown",
   "metadata": {},
   "source": [
    "![](imgs/2021-10-31_12-28-10.png)"
   ]
  },
  {
   "cell_type": "markdown",
   "metadata": {},
   "source": [
    "下面介绍的软件也可以截取点击鼠标临时弹出的窗口（鼠标移开就消失的窗口），而且还有更强大好用的功能。"
   ]
  },
  {
   "cell_type": "markdown",
   "metadata": {},
   "source": [
    "### Snipaste 截图、贴图"
   ]
  },
  {
   "cell_type": "markdown",
   "metadata": {},
   "source": [
    "Snipaste 的功能很多，我们不一一介绍，这是它的官方文档：https://docs.snipaste.com/zh-cn/，可以自行查看。"
   ]
  },
  {
   "cell_type": "markdown",
   "metadata": {},
   "source": [
    "我们下面介绍它最亮眼的贴图功能。"
   ]
  },
  {
   "cell_type": "markdown",
   "metadata": {},
   "source": [
    "打开 Snipaste，按 F1 即开始截图，而且左下角还有提示呢："
   ]
  },
  {
   "cell_type": "markdown",
   "metadata": {},
   "source": [
    "![](imgs/20211031124654.png)"
   ]
  },
  {
   "cell_type": "markdown",
   "metadata": {},
   "source": [
    "再按 F3，刚才的截图就直接贴在桌面上了（可随意拉动），不需要粘贴到任何位置，直接就贴在桌面。"
   ]
  },
  {
   "cell_type": "markdown",
   "metadata": {},
   "source": [
    "![](imgs/20211031125426.png)"
   ]
  },
  {
   "cell_type": "markdown",
   "metadata": {},
   "source": [
    "而且你可以重复地截图、贴图，每次截图的图片之间互不影响。"
   ]
  },
  {
   "cell_type": "markdown",
   "metadata": {},
   "source": [
    "展开你的想象力，我想你已经想到了它丰富的应用场景。"
   ]
  },
  {
   "cell_type": "markdown",
   "metadata": {},
   "source": [
    "你可以将两张图片放一起来对比："
   ]
  },
  {
   "cell_type": "markdown",
   "metadata": {},
   "source": [
    "![](imgs/2021-10-31_13-01-19.png)"
   ]
  },
  {
   "cell_type": "markdown",
   "metadata": {},
   "source": [
    "你可以将不同页面的内容截图，按照先后顺序、思维导图或流程等贴到一起来进行展示："
   ]
  },
  {
   "cell_type": "markdown",
   "metadata": {},
   "source": [
    "![](imgs/2021-10-31_13-18-31.png)"
   ]
  },
  {
   "cell_type": "markdown",
   "metadata": {},
   "source": [
    "任何时候，你不需要哪一张图片，按 `Esc` 键，即可撤销它。"
   ]
  },
  {
   "cell_type": "markdown",
   "metadata": {},
   "source": [
    "如此亮眼的功能，在直播，宣讲，线上授课等场景，是不是非常实用呢。"
   ]
  }
 ],
 "metadata": {
  "kernelspec": {
   "display_name": "Python 3",
   "language": "python",
   "name": "python3"
  },
  "language_info": {
   "codemirror_mode": {
    "name": "ipython",
    "version": 3
   },
   "file_extension": ".py",
   "mimetype": "text/x-python",
   "name": "python",
   "nbconvert_exporter": "python",
   "pygments_lexer": "ipython3",
   "version": "3.7.3"
  }
 },
 "nbformat": 4,
 "nbformat_minor": 2
}